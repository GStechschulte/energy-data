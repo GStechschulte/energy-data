{
 "cells": [
  {
   "cell_type": "code",
   "execution_count": 2,
   "metadata": {},
   "outputs": [],
   "source": [
    "import pymysql\n",
    "import psycopg2"
   ]
  },
  {
   "cell_type": "code",
   "execution_count": null,
   "metadata": {},
   "outputs": [],
   "source": [
    "# Connect to MariaDB Platform\n",
    "connection = pymysql.connect(\n",
    "        user='admin',\n",
    "        password='energy2021!',\n",
    "        host='database-1.canx610strnv.us-east-1.rds.amazonaws.com',\n",
    "        database=\"energy\", ## notice this is NOT the name of the AWS RDS which is \"database-1\"\n",
    "        port=3306\n",
    ")\n",
    "\n",
    "cursor = connection.cursor()\n",
    "cursor.close()"
   ]
  },
  {
   "cell_type": "code",
   "execution_count": 5,
   "metadata": {},
   "outputs": [
    {
     "data": {
      "text/plain": [
       "<connection object at 0x7fec6d57d430; dsn: 'user=postgres password=xxx dbname=postgres host=localhost port=5432', closed: 0>"
      ]
     },
     "execution_count": 5,
     "metadata": {},
     "output_type": "execute_result"
    }
   ],
   "source": [
    "# Connection to PostgreSQL\n",
    "conn = psycopg2.connect(\n",
    "            host='localhost', \n",
    "            dbname='postgres', \n",
    "            user='postgres',\n",
    "            password='enter password here',\n",
    "            port='5432')\n",
    "conn"
   ]
  }
 ],
 "metadata": {
  "interpreter": {
   "hash": "6ea8e6696542bf91b5850513673ceef1808937d627ee3e2c71e2007cafbd44d0"
  },
  "kernelspec": {
   "display_name": "Python 3.8.12 64-bit ('autodidact': conda)",
   "language": "python",
   "name": "python3"
  },
  "language_info": {
   "codemirror_mode": {
    "name": "ipython",
    "version": 3
   },
   "file_extension": ".py",
   "mimetype": "text/x-python",
   "name": "python",
   "nbconvert_exporter": "python",
   "pygments_lexer": "ipython3",
   "version": "3.8.12"
  },
  "orig_nbformat": 4
 },
 "nbformat": 4,
 "nbformat_minor": 2
}
