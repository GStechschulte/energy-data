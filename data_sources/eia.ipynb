{
 "cells": [
  {
   "cell_type": "code",
   "execution_count": null,
   "metadata": {},
   "outputs": [],
   "source": [
    "import requests\n",
    "import json\n",
    "import pandas as pd\n",
    "import plotly.express as px"
   ]
  },
  {
   "cell_type": "markdown",
   "metadata": {},
   "source": [
    "yyyymmdd"
   ]
  },
  {
   "cell_type": "markdown",
   "metadata": {},
   "source": [
    "## Demand for California\n",
    "\n",
    "[U.S. Electric System Operating Data ](https://www.eia.gov/opendata/qb.php?category=3389936&sdid=EBA.CAL-ALL.D.H)"
   ]
  },
  {
   "cell_type": "code",
   "execution_count": null,
   "metadata": {},
   "outputs": [],
   "source": [
    "\n",
    "key = '2f13235137d441c33ec363a5d85a86cb'\n",
    "url = 'http://api.eia.gov/series/?api_key=cfc655e7e0bb8f38367dc611a0da9409&series_id=EBA.CAL-ALL.D.H'\n",
    "url2 = 'http://api.eia.gov/series/?api_key=cfc655e7e0bb8f38367dc611a0da9409&series_id=EBA.CAL-ALL.NG.SUN.H'\n",
    "start = '2021-09-0'\n",
    "end = '2021-09-02'"
   ]
  },
  {
   "cell_type": "code",
   "execution_count": null,
   "metadata": {},
   "outputs": [],
   "source": [
    "resp = requests.post(url2).json()"
   ]
  },
  {
   "cell_type": "code",
   "execution_count": null,
   "metadata": {},
   "outputs": [],
   "source": [
    "data = dict(resp['series'][0]['data'])\n",
    "#hydro = dict(hydro_response['series'][0]['data'])"
   ]
  },
  {
   "cell_type": "code",
   "execution_count": null,
   "metadata": {},
   "outputs": [],
   "source": [
    "df = pd.DataFrame.from_dict(data, orient='index', columns=['MWh'])"
   ]
  },
  {
   "cell_type": "code",
   "execution_count": null,
   "metadata": {},
   "outputs": [],
   "source": [
    "df.index = pd.to_datetime(df.index, utc=True)"
   ]
  },
  {
   "cell_type": "code",
   "execution_count": null,
   "metadata": {},
   "outputs": [],
   "source": [
    "px.line(df, x=df.index, y='MWh')"
   ]
  },
  {
   "cell_type": "markdown",
   "metadata": {},
   "source": [
    "## Generation \n",
    "\n",
    "[All Generatation](https://www.eia.gov/opendata/qb.php?category=3390021&sdid=EBA.CAL-ALL.NG.H)\n",
    " - http://api.eia.gov/series/?api_key=YOUR_API_KEY_HERE&series_id=EBA.CAL-ALL.NG.H\n",
    "\n",
    "[Generation by Source](https://www.eia.gov/opendata/qb.php?category=3390106)\n",
    " - Coal\n",
    " - Hydro: http://api.eia.gov/series/?api_key=YOUR_API_KEY_HERE&series_id=EBA.CAL-ALL.NG.WAT.H\n",
    " - Natural gas\n",
    " - nuclear\n",
    " - other\n",
    " - petroleum\n",
    " - solar: http://api.eia.gov/series/?api_key=YOUR_API_KEY_HERE&series_id=EBA.CAL-ALL.NG.SUN.H\n",
    " - wind: http://api.eia.gov/series/?api_key=YOUR_API_KEY_HERE&series_id=EBA.CAL-ALL.NG.WND.H"
   ]
  },
  {
   "cell_type": "code",
   "execution_count": null,
   "metadata": {},
   "outputs": [],
   "source": [
    "key = '2f13235137d441c33ec363a5d85a86cb'\n",
    "url1 = 'http://api.eia.gov/series/?api_key=2f13235137d441c33ec363a5d85a86cb&series_id=EBA.CAL-ALL.NG.WND.H&start=20191018T07Z'\n",
    "url2 = 'http://api.eia.gov/series/?api_key=2f13235137d441c33ec363a5d85a86cb&series_id=EBA.CAL-ALL.NG.SUN.H&start=20191018T07Z'\n",
    "start = '2021-09-0'\n",
    "end = '2021-09-02'\n",
    "\n",
    "pd.to_datetime('20211018T07Z')"
   ]
  },
  {
   "cell_type": "code",
   "execution_count": null,
   "metadata": {},
   "outputs": [],
   "source": [
    "wind = requests.post(url1).json()\n",
    "solar = requests.post(url2).json()"
   ]
  },
  {
   "cell_type": "code",
   "execution_count": null,
   "metadata": {},
   "outputs": [],
   "source": [
    "wind = dict(wind['series'][0]['data'])\n",
    "solar = dict(solar['series'][0]['data'])"
   ]
  },
  {
   "cell_type": "code",
   "execution_count": null,
   "metadata": {},
   "outputs": [],
   "source": [
    "df = pd.DataFrame.from_dict([wind, solar]).T"
   ]
  },
  {
   "cell_type": "code",
   "execution_count": null,
   "metadata": {},
   "outputs": [],
   "source": [
    "df.rename(columns={0: 'wind_MWh', 1: 'solar_MWh'}, inplace=True)"
   ]
  },
  {
   "cell_type": "code",
   "execution_count": null,
   "metadata": {},
   "outputs": [],
   "source": [
    "df"
   ]
  }
 ],
 "metadata": {
  "interpreter": {
   "hash": "6ea8e6696542bf91b5850513673ceef1808937d627ee3e2c71e2007cafbd44d0"
  },
  "kernelspec": {
   "display_name": "Python 3.8.12 64-bit ('autodidact': conda)",
   "name": "python3"
  },
  "language_info": {
   "codemirror_mode": {
    "name": "ipython",
    "version": 3
   },
   "file_extension": ".py",
   "mimetype": "text/x-python",
   "name": "python",
   "nbconvert_exporter": "python",
   "pygments_lexer": "ipython3",
   "version": "3.8.12"
  },
  "orig_nbformat": 4
 },
 "nbformat": 4,
 "nbformat_minor": 2
}
