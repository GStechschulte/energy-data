{
 "cells": [
  {
   "cell_type": "code",
   "execution_count": null,
   "metadata": {},
   "outputs": [],
   "source": [
    "import requests\n",
    "import json\n",
    "import pandas as pd\n",
    "import time"
   ]
  },
  {
   "cell_type": "markdown",
   "metadata": {},
   "source": [
    "Demand and generation is for the region of California. While weather isn't typically avalible for a \"region\". Should I collect weather data from multiple cities, therefore representing an approximation of the California weather?\n"
   ]
  },
  {
   "cell_type": "code",
   "execution_count": null,
   "metadata": {},
   "outputs": [],
   "source": [
    "hydro = {'Yosemite Valley': 7262586, 'Tahoe Vista': 5400943, \n",
    "         'Lassen County': 5566544, 'Eldorado': 5947462}\n",
    "\n",
    "wind = {'Mojave': 5373965, 'Tehachapi': 5401297, \n",
    "        'Palm Springs': 5380668, 'Livermore': 5367440,\n",
    "        'Fairfield': 5347335}\n",
    "\n",
    "solar = {'Calexico': 5332698, 'Los Angeles': 1705545, \n",
    "         'Bakersfield': 5325738, 'Rancho Santa Margarita': 5386082, \n",
    "         'Citrus Heights': 5337561, 'Red Bluff': 5570065, 'San Francisco': 1689969}"
   ]
  },
  {
   "cell_type": "markdown",
   "metadata": {},
   "source": [
    "## Call current weather data for one location"
   ]
  },
  {
   "cell_type": "code",
   "execution_count": null,
   "metadata": {},
   "outputs": [],
   "source": [
    "weather = {}\n",
    "for city, key in hydro.items():\n",
    "    #url = 'http://api.openweathermap.org/data/2.5/weather?id={}&appid=9ea3a7cd842bc24bd99785092ce3342e&units=metric'.format(key)\n",
    "    url = 'http://api.openweathermap.org/data/2.5/onecall/timemachine?lat=60.99&lon=30.9&dt=1586468027&appid=9ea3a7cd842bc24bd99785092ce3342e'.format(key)\n",
    "    response = requests.get(url)\n",
    "    city_weather = json.loads(response.text)\n",
    "    weather[city] = city_weather\n",
    "    #time.sleep(30)"
   ]
  },
  {
   "cell_type": "code",
   "execution_count": null,
   "metadata": {},
   "outputs": [],
   "source": [
    "len(weather)"
   ]
  },
  {
   "cell_type": "code",
   "execution_count": null,
   "metadata": {},
   "outputs": [],
   "source": [
    "weather"
   ]
  }
 ],
 "metadata": {
  "interpreter": {
   "hash": "6ea8e6696542bf91b5850513673ceef1808937d627ee3e2c71e2007cafbd44d0"
  },
  "kernelspec": {
   "display_name": "Python 3.8.12 64-bit ('autodidact': conda)",
   "name": "python3"
  },
  "language_info": {
   "codemirror_mode": {
    "name": "ipython",
    "version": 3
   },
   "file_extension": ".py",
   "mimetype": "text/x-python",
   "name": "python",
   "nbconvert_exporter": "python",
   "pygments_lexer": "ipython3",
   "version": "3.8.12"
  },
  "orig_nbformat": 4
 },
 "nbformat": 4,
 "nbformat_minor": 2
}
